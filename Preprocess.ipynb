{
 "cells": [
  {
   "cell_type": "code",
   "execution_count": 23,
   "metadata": {},
   "outputs": [],
   "source": [
    "# imports\n",
    "import os\n",
    "import h5py\n",
    "import xml.etree.ElementTree as ET\n",
    "import pathlib\n",
    "import numpy as np\n",
    "import numpy.fft\n",
    "import matplotlib.pyplot as plt"
   ]
  },
  {
   "cell_type": "code",
   "execution_count": 31,
   "metadata": {},
   "outputs": [],
   "source": [
    "def histeq(im,nbr_bins=256):\n",
    "  \"\"\"  Histogram equalization of a grayscale image. \"\"\"\n",
    "\n",
    "  # get image histogram\n",
    "  imhist,bins = np.histogram(im.flatten(),nbr_bins,normed=True)\n",
    "  cdf = imhist.cumsum() # cumulative distribution function\n",
    "  cdf = 255 * cdf / cdf[-1] # normalize\n",
    "\n",
    "  # use linear interpolation of cdf to find new pixel values\n",
    "  im2 = np.interp(im.flatten(),bins[:-1],cdf)\n",
    "\n",
    "  return im2.reshape(im.shape)"
   ]
  },
  {
   "cell_type": "code",
   "execution_count": 3,
   "metadata": {},
   "outputs": [],
   "source": [
    "input_data_path = '/mnt/data/singlecoil_train/'\n",
    "output_data_path = '/mnt/data_2/singlecoil_train/'"
   ]
  },
  {
   "cell_type": "code",
   "execution_count": 4,
   "metadata": {},
   "outputs": [],
   "source": [
    "files = [os.path.join(input_data_path, f) for f in os.listdir(input_data_path)]\n",
    "path = pathlib.Path(output_data_path)\n",
    "path.parent.mkdir(parents=True, exist_ok=True)"
   ]
  },
  {
   "cell_type": "code",
   "execution_count": 38,
   "metadata": {},
   "outputs": [
    {
     "name": "stdout",
     "output_type": "stream",
     "text": [
      "{'SIEMENS-Skyra-NA': 417, 'SIEMENS-Aera-NA': 411, 'SIEMENS-Biograph_mMR-NA': 104, 'SIEMENS-Prisma_fit-NA': 41}\n"
     ]
    }
   ],
   "source": [
    "ven_model_count = {}\n",
    "for fp in files:\n",
    "    f = h5py.File(fp)\n",
    "    \n",
    "    xml_doc = f.get(\"ismrmrd_header\")[()]\n",
    "    root = ET.fromstring(f.get('ismrmrd_header')[()])\n",
    "    ns = {'ns': 'http://www.ismrm.org/ISMRMRD'}\n",
    "    acq_sys_info = root.findall(\"ns:acquisitionSystemInformation\", ns)[0]\n",
    "    \n",
    "    Vendor = acq_sys_info.find(\"ns:systemVendor\", ns).text\n",
    "    Model = acq_sys_info.find(\"ns:systemModel\", ns).text\n",
    "    if acq_sys_info.find(\"systemFieldStrength_T\", ns) != None:\n",
    "        T = acq_sys_info.find(\"systemFieldStrength_T\", ns).text\n",
    "    else:\n",
    "        T = \"NA\"\n",
    "    \n",
    "    Key = Vendor + \"-\" + Model + \"-\" + T\n",
    "    \n",
    "    if Key in ven_model_count:\n",
    "        ven_model_count[Key] = ven_model_count[Key] + 1\n",
    "    else:\n",
    "        ven_model_count[Key] = 1\n",
    "        \n",
    "    if Key == 'SIEMENS-Biograph_mMR-NA':\n",
    "        fn = output_data_path + \"data-\" + str(ven_model_count[Key]) +  \".npy\";\n",
    "        \n",
    "        k = f.get(\"kspace\")\n",
    "    \n",
    "        img = np.abs(np.fft.fftshift(np.fft.ifft2(k)))\n",
    "    \n",
    "        min_x = int(img.shape[1]/2 - 160)\n",
    "        max_x = int(img.shape[1]/2 + 160)\n",
    "        min_y = int(img.shape[2]/2 - 160)\n",
    "        max_y = int(img.shape[2]/2 + 160)\n",
    "    \n",
    "        img = img[:,min_x:max_x,min_y:max_y]\n",
    "    \n",
    "        row_sums = img.sum(axis=2)\n",
    "        norm_img = img / row_sums[:, numpy.newaxis]\n",
    "        \n",
    "        \n",
    "        np.save(fn, norm_img)\n",
    "    \n",
    "print(ven_model_count)"
   ]
  },
  {
   "cell_type": "code",
   "execution_count": null,
   "metadata": {},
   "outputs": [],
   "source": []
  }
 ],
 "metadata": {
  "kernelspec": {
   "display_name": "Python 3",
   "language": "python",
   "name": "python3"
  },
  "language_info": {
   "codemirror_mode": {
    "name": "ipython",
    "version": 3
   },
   "file_extension": ".py",
   "mimetype": "text/x-python",
   "name": "python",
   "nbconvert_exporter": "python",
   "pygments_lexer": "ipython3",
   "version": "3.6.8"
  }
 },
 "nbformat": 4,
 "nbformat_minor": 2
}
